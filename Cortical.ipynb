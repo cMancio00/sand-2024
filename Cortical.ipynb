{
 "cells": [
  {
   "metadata": {},
   "cell_type": "markdown",
   "source": [
    "# Analysis of visual cortical neurons of mice\n",
    "\n",
    "# What this graph is about\n",
    "\n",
    "Data of this graph was collected from the study of the paper [[3]](README.md#references).\n",
    "\n",
    "The aim of the graph is to understand better the connections and structor of neurons in the primary visual cortex of a mouse.\n",
    "\n",
    "Researchers have simulated visual stimulus on some neurons and tracked where the synapsis were propagated or not.\n",
    "\n",
    "## Data components\n",
    "\n",
    "Three types of components were tracked:\n",
    "\n",
    "- Characterized pyramidal neuron\n",
    "- Cell body in EM volume\n",
    "- Dendritic fragment\n",
    "\n",
    "We will try to get a brief explanation of these components.\n",
    "\n",
    "### Characterized pyramidal neuron\n",
    "\n",
    "These are the neurons that were stimulated with two-photon calcium imaging. A specific visual \n",
    "stimulus is created with this technique.\n",
    "> Every synapse starts from one of them.\n",
    "\n",
    "### Cell body in EM volume\n",
    "\n",
    "These are the neurons that are targeted from the synapse. With the large-scale electron microscopy (EM), like we described in the [README](README.md#scope-of-the-paper), is it possible \n",
    "to trace a portion of the local network of these neurons.\n",
    "\n",
    "### Dendritic fragment\n",
    "\n",
    "Part of the neuron specialized in retrieving signals from other neurons. It is different from the \n",
    "axon which is specialized in sending signals to other neurons.\n",
    "\n",
    "> We have *fragment* because the Dendritic is highly branched, so only a fraction of it was tracked.   \n",
    "\n",
    "## Further division of the components\n",
    "\n",
    "We said that a **pyramidal neuron** \"starts\" the synapse targeting a specific neuron.\n",
    "\n",
    "Post-Synaptic data was also collected, so the components: *Cell body in EM volume* and *Dendritic fragment* can be classified to:\n",
    "\n",
    "- Postsynaptic excitatory target,\n",
    "- Postsynaptic inhibitory target\n",
    "\n",
    "**excitatory** and **inhibitory** means: \"A target that *propagates* the signal and a target that *stops* the signal respectively.\"\n",
    "\n",
    "> Since all the synapses start from the *characterized pyramidal neurons*, they do not have this further division and that attribute is marked as *NA*.\n",
    " "
   ],
   "id": "4dec0f9612eaa7a8"
  },
  {
   "metadata": {},
   "cell_type": "markdown",
   "source": [
    "# Before Starting the analysis\n",
    "\n",
    "Now that we know **what** data is collected, **why** and **how**, we can formulate questions.\n",
    "\n",
    "This is an important step because we must know what we are looking for, otherwise we might not be able to see it if we find it.\n",
    "\n",
    "We can split the techniques to answer the questions, and the rest of the notebook, in two categories:\n",
    "\n",
    "1. [Descriptive analysis](#descriptive-analysis)\n",
    "2. [Statistical modeling](#statistical-modeling)\n",
    "\n",
    "> We will not use any machine learning technique, since is out of the scope of this course. \n",
    "> We will focus on the statistical aspects of Network data.\n"
   ],
   "id": "8261131ad813a97a"
  },
  {
   "metadata": {},
   "cell_type": "markdown",
   "source": [
    "## Analysis questions\n",
    "\n",
    "some questions to discuss later here. :)"
   ],
   "id": "e6f354fc3d022212"
  },
  {
   "metadata": {},
   "cell_type": "markdown",
   "source": "# Descriptive analysis",
   "id": "9572aff89ec7e7e1"
  },
  {
   "cell_type": "code",
   "id": "initial_id",
   "metadata": {
    "collapsed": true,
    "ExecuteTime": {
     "end_time": "2024-04-17T08:40:19.306471Z",
     "start_time": "2024-04-17T08:40:18.820596Z"
    }
   },
   "source": [
    "import igraph as ig\n",
    "import matplotlib.pyplot as plt"
   ],
   "outputs": [],
   "execution_count": 1
  },
  {
   "metadata": {},
   "cell_type": "markdown",
   "source": [
    "We start by importing the graph downloaded from the site [[2]](/README.md#references).\n",
    "\n",
    "Unfortunately with this version we are using of iGraph, we can't read from an URL."
   ],
   "id": "ddba027f28b17e7"
  },
  {
   "metadata": {
    "ExecuteTime": {
     "end_time": "2024-04-17T08:40:19.312129Z",
     "start_time": "2024-04-17T08:40:19.307654Z"
    }
   },
   "cell_type": "code",
   "source": [
    "neurons : ig.Graph\n",
    "neurons = ig.Graph.Read_GraphML(\"Data/mouse_visual.cortex_2.graphml\")\n",
    "neurons.to_undirected()"
   ],
   "id": "ffbd5c9dc8584c20",
   "outputs": [],
   "execution_count": 2
  },
  {
   "metadata": {},
   "cell_type": "markdown",
   "source": "> Since the return type of `Read_GraphML` is erroneously hinted as `None` (which is not because is a `Graph`) we hint the interpreter thar `neurons` is a `Graph`, so we can use autocompletion and suggestions.",
   "id": "f1c6499925a20f75"
  },
  {
   "metadata": {
    "ExecuteTime": {
     "end_time": "2024-04-17T08:40:19.320189Z",
     "start_time": "2024-04-17T08:40:19.313130Z"
    }
   },
   "cell_type": "code",
   "source": [
    "print(f\"The Graph is bipartite: {neurons.is_bipartite()}\")\n",
    "print(f\"Nodes can be classified as: {set(neurons.vs['type1'])}\")\n",
    "print(f\"We can further classify as: {set(neurons.vs['type2'])}\")\n",
    "\n"
   ],
   "id": "73f8cf43d70d2870",
   "outputs": [
    {
     "name": "stdout",
     "output_type": "stream",
     "text": [
      "The Graph is bipartite: False\n",
      "Nodes can be classified as: {'Cell body in EM volume', 'Characterized pyramidal neuron', 'Dendritic fragment'}\n",
      "We can further classify as: {'Postsynaptic excitatory target', 'Postsynaptic inhibitory target', 'NA'}\n"
     ]
    }
   ],
   "execution_count": 3
  },
  {
   "metadata": {
    "ExecuteTime": {
     "end_time": "2024-04-17T08:40:19.329534Z",
     "start_time": "2024-04-17T08:40:19.320963Z"
    }
   },
   "cell_type": "code",
   "source": [
    "neurons_list = list(neurons.vs)\n",
    "for neuron in neurons_list:\n",
    "    if neuron[\"type1\"] == 'Characterized pyramidal neuron':\n",
    "         if not (neuron[\"type2\"] == 'NA'):\n",
    "            print(f\"Not True {neuron['id']}\")\n",
    "print(\"Done\")\n",
    "# Pyram -> NA\n",
    "# Gli altri si \"caricano e scaricano\""
   ],
   "id": "691bce2b4acb1145",
   "outputs": [
    {
     "name": "stdout",
     "output_type": "stream",
     "text": [
      "Done\n"
     ]
    }
   ],
   "execution_count": 4
  },
  {
   "metadata": {
    "ExecuteTime": {
     "end_time": "2024-04-17T08:40:19.339384Z",
     "start_time": "2024-04-17T08:40:19.331095Z"
    }
   },
   "cell_type": "code",
   "source": [
    "for edge in neurons.es:\n",
    "    print(f'{neurons.vs[edge.source][\"id\"]}->{neurons.vs[edge.target][\"id\"]}')"
   ],
   "id": "2b1f5bb1c7f19a54",
   "outputs": [
    {
     "name": "stdout",
     "output_type": "stream",
     "text": [
      "n1->n4\n",
      "n1->n5\n",
      "n2->n7\n",
      "n3->n7\n",
      "n1->n12\n",
      "n4->n12\n",
      "n1->n14\n",
      "n1->n15\n",
      "n1->n16\n",
      "n1->n17\n",
      "n1->n18\n",
      "n12->n18\n",
      "n12->n19\n",
      "n12->n20\n",
      "n12->n21\n",
      "n12->n22\n",
      "n12->n23\n",
      "n12->n24\n",
      "n12->n25\n",
      "n12->n26\n",
      "n12->n27\n",
      "n12->n28\n",
      "n12->n29\n",
      "n12->n30\n",
      "n12->n31\n",
      "n12->n32\n",
      "n12->n33\n",
      "n12->n34\n",
      "n9->n35\n",
      "n11->n35\n",
      "n12->n35\n",
      "n5->n36\n",
      "n10->n36\n",
      "n5->n37\n",
      "n5->n38\n",
      "n5->n39\n",
      "n5->n40\n",
      "n5->n41\n",
      "n5->n42\n",
      "n5->n43\n",
      "n5->n44\n",
      "n5->n45\n",
      "n5->n46\n",
      "n5->n47\n",
      "n5->n48\n",
      "n5->n49\n",
      "n5->n50\n",
      "n5->n51\n",
      "n5->n52\n",
      "n5->n53\n",
      "n5->n54\n",
      "n5->n55\n",
      "n5->n56\n",
      "n5->n57\n",
      "n5->n58\n",
      "n5->n59\n",
      "n6->n59\n",
      "n5->n60\n",
      "n6->n60\n",
      "n6->n61\n",
      "n6->n62\n",
      "n6->n63\n",
      "n6->n64\n",
      "n6->n65\n",
      "n6->n66\n",
      "n6->n67\n",
      "n6->n68\n",
      "n6->n69\n",
      "n6->n70\n",
      "n6->n71\n",
      "n6->n72\n",
      "n6->n73\n",
      "n6->n74\n",
      "n6->n75\n",
      "n6->n76\n",
      "n6->n77\n",
      "n6->n78\n",
      "n6->n79\n",
      "n6->n80\n",
      "n6->n81\n",
      "n2->n82\n",
      "n5->n82\n",
      "n9->n82\n",
      "n12->n82\n",
      "n9->n83\n",
      "n9->n84\n",
      "n9->n85\n",
      "n9->n86\n",
      "n9->n87\n",
      "n9->n88\n",
      "n9->n89\n",
      "n9->n90\n",
      "n9->n91\n",
      "n9->n92\n",
      "n9->n93\n",
      "n9->n94\n",
      "n9->n95\n",
      "n9->n96\n",
      "n9->n97\n",
      "n9->n98\n",
      "n9->n99\n",
      "n9->n100\n",
      "n9->n101\n",
      "n3->n102\n",
      "n5->n102\n",
      "n9->n102\n",
      "n9->n103\n",
      "n10->n103\n",
      "n9->n104\n",
      "n10->n104\n",
      "n9->n105\n",
      "n10->n105\n",
      "n10->n106\n",
      "n10->n107\n",
      "n10->n108\n",
      "n10->n109\n",
      "n10->n110\n",
      "n10->n111\n",
      "n10->n112\n",
      "n10->n113\n",
      "n10->n114\n",
      "n10->n115\n",
      "n10->n116\n",
      "n10->n117\n",
      "n10->n118\n",
      "n10->n119\n",
      "n10->n120\n",
      "n10->n121\n",
      "n10->n122\n",
      "n10->n123\n",
      "n10->n124\n",
      "n10->n125\n",
      "n10->n126\n",
      "n10->n127\n",
      "n10->n128\n",
      "n10->n129\n",
      "n11->n129\n",
      "n10->n130\n",
      "n11->n130\n",
      "n10->n131\n",
      "n11->n131\n",
      "n11->n132\n",
      "n11->n133\n",
      "n11->n134\n",
      "n11->n135\n",
      "n11->n136\n",
      "n11->n137\n",
      "n11->n138\n",
      "n11->n139\n",
      "n11->n140\n",
      "n11->n141\n",
      "n11->n142\n",
      "n11->n143\n",
      "n11->n144\n",
      "n11->n145\n",
      "n11->n146\n",
      "n9->n147\n",
      "n11->n147\n",
      "n9->n148\n",
      "n11->n148\n",
      "n7->n149\n",
      "n8->n149\n",
      "n9->n149\n",
      "n10->n149\n",
      "n8->n150\n",
      "n8->n151\n",
      "n2->n152\n",
      "n9->n152\n",
      "n2->n153\n",
      "n2->n154\n",
      "n2->n155\n",
      "n2->n156\n",
      "n2->n157\n",
      "n2->n158\n",
      "n2->n159\n",
      "n2->n160\n",
      "n2->n161\n",
      "n2->n162\n",
      "n2->n163\n",
      "n2->n164\n",
      "n2->n165\n",
      "n2->n166\n",
      "n2->n167\n",
      "n2->n168\n",
      "n2->n169\n",
      "n2->n170\n",
      "n2->n171\n",
      "n2->n172\n",
      "n2->n173\n",
      "n2->n174\n",
      "n2->n175\n",
      "n2->n176\n",
      "n3->n176\n",
      "n2->n177\n",
      "n3->n177\n",
      "n3->n178\n",
      "n3->n179\n",
      "n3->n180\n",
      "n3->n181\n",
      "n3->n182\n",
      "n3->n183\n",
      "n2->n184\n",
      "n7->n184\n",
      "n2->n185\n",
      "n7->n185\n",
      "n7->n186\n",
      "n7->n187\n",
      "n7->n188\n",
      "n7->n189\n",
      "n7->n190\n",
      "n7->n191\n",
      "n7->n192\n",
      "n7->n193\n",
      "n7->n194\n"
     ]
    }
   ],
   "execution_count": 5
  },
  {
   "metadata": {
    "ExecuteTime": {
     "end_time": "2024-04-17T08:40:19.347621Z",
     "start_time": "2024-04-17T08:40:19.340165Z"
    }
   },
   "cell_type": "code",
   "source": [
    "print(neurons['info'])\n",
    "print(neurons['source'])\n",
    "print(neurons['sensor'])\n",
    "print(neurons['DOI'])\n",
    "print(neurons['region'])\n",
    "print(neurons['key'])"
   ],
   "id": "514896d7a216939b",
   "outputs": [
    {
     "name": "stdout",
     "output_type": "stream",
     "text": [
      "Figure 5b\n",
      "http://www.nature.com/nature/journal/v471/n7337/full/nature09802.html\n",
      "Electron microscopy\n",
      "doi:10.1038/nature09802\n",
      "cerebral cortex\n",
      "IT=inhibitory targets, CBEV=cell body in EM volume,\n"
     ]
    }
   ],
   "execution_count": 6
  },
  {
   "metadata": {},
   "cell_type": "markdown",
   "source": "# Statistical Modeling",
   "id": "566be4c44d1588b7"
  }
 ],
 "metadata": {
  "kernelspec": {
   "display_name": "Python 3",
   "language": "python",
   "name": "python3"
  },
  "language_info": {
   "codemirror_mode": {
    "name": "ipython",
    "version": 2
   },
   "file_extension": ".py",
   "mimetype": "text/x-python",
   "name": "python",
   "nbconvert_exporter": "python",
   "pygments_lexer": "ipython2",
   "version": "2.7.6"
  }
 },
 "nbformat": 4,
 "nbformat_minor": 5
}
